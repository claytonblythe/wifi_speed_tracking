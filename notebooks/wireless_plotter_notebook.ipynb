{
 "cells": [
  {
   "cell_type": "code",
   "execution_count": 21,
   "metadata": {
    "collapsed": false
   },
   "outputs": [
    {
     "name": "stdout",
     "output_type": "stream",
     "text": [
      "1473\n",
      "491\n",
      "491\n",
      "491\n",
      "['Sun Feb 19 21:00:00 CST 2017', 'Sun Feb 19 22:05:03 CST 2017', 'Mon Feb 20 10:00:01 CST 2017', 'Mon Feb 20 14:00:00 CST 2017', 'Mon Feb 20 15:00:00 CST 2017', 'Mon Feb 20 16:00:00 CST 2017', 'Mon Feb 20 17:00:00 CST 2017', 'Mon Feb 20 18:00:00 CST 2017', 'Mon Feb 20 19:00:00 CST 2017', 'Mon Feb 20 20:00:00 CST 2017', 'Mon Feb 20 21:00:00 CST 2017', 'Tue Feb 21 20:00:00 CST 2017', 'Tue Feb 21 21:00:00 CST 2017', 'Tue Feb 21 22:00:00 CST 2017', 'Wed Feb 22 08:00:00 CST 2017', 'Wed Feb 22 14:02:27 CST 2017', 'Wed Feb 22 16:00:00 CST 2017', 'Wed Feb 22 19:00:00 CST 2017', 'Wed Feb 22 20:00:00 CST 2017', 'Wed Feb 22 22:00:00 CST 2017', 'Wed Feb 22 23:00:00 CST 2017', 'Thu Feb 23 00:00:00 CST 2017', 'Thu Feb 23 07:00:00 CST 2017', 'Thu Feb 23 08:00:00 CST 2017', 'Thu Feb 23 09:00:00 CST 2017', 'Thu Feb 23 10:00:00 CST 2017', 'Thu Feb 23 11:00:00 CST 2017', 'Thu Feb 23 12:00:00 CST 2017', 'Thu Feb 23 13:00:00 CST 2017', 'Thu Feb 23 14:00:00 CST 2017', 'Thu Feb 23 15:00:00 CST 2017', 'Thu Feb 23 16:00:00 CST 2017', 'Thu Feb 23 17:00:00 CST 2017', 'Thu Feb 23 18:00:00 CST 2017', 'Thu Feb 23 19:00:00 CST 2017', 'Thu Feb 23 20:00:00 CST 2017', 'Thu Feb 23 21:00:00 CST 2017', 'Thu Feb 23 22:00:00 CST 2017', 'Thu Feb 23 23:00:00 CST 2017', 'Fri Feb 24 00:00:00 CST 2017', 'Fri Feb 24 01:00:00 CST 2017', 'Fri Feb 24 02:00:00 CST 2017', 'Fri Feb 24 03:00:00 CST 2017', 'Fri Feb 24 04:00:01 CST 2017', 'Fri Feb 24 05:00:00 CST 2017', 'Fri Feb 24 06:00:01 CST 2017', 'Fri Feb 24 07:00:00 CST 2017', 'Fri Feb 24 08:00:00 CST 2017', 'Fri Feb 24 10:00:00 CST 2017', 'Fri Feb 24 12:00:00 CST 2017', 'Fri Feb 24 14:00:00 CST 2017', 'Fri Feb 24 15:00:00 CST 2017', 'Fri Feb 24 18:00:00 CST 2017', 'Fri Feb 24 19:00:00 CST 2017', 'Fri Feb 24 20:00:00 CST 2017', 'Fri Feb 24 23:00:00 CST 2017', 'Sat Feb 25 00:00:00 CST 2017', 'Sat Feb 25 09:00:00 CST 2017', 'Sat Feb 25 10:00:00 CST 2017', 'Sat Feb 25 11:00:00 CST 2017', 'Sat Feb 25 12:00:00 CST 2017', 'Sat Feb 25 13:00:00 CST 2017', 'Sat Feb 25 14:00:00 CST 2017', 'Sat Feb 25 15:00:01 CST 2017', 'Sat Feb 25 16:00:01 CST 2017', 'Sat Feb 25 19:00:00 CST 2017', 'Sat Feb 25 20:00:00 CST 2017', 'Sat Feb 25 21:00:01 CST 2017', 'Sat Feb 25 22:00:00 CST 2017', 'Sun Feb 26 10:00:00 CST 2017', 'Sun Feb 26 12:00:00 CST 2017', 'Sun Feb 26 14:00:00 CST 2017', 'Sun Feb 26 15:00:00 CST 2017', 'Sun Feb 26 16:00:00 CST 2017', 'Sun Feb 26 17:00:00 CST 2017', 'Sun Feb 26 18:00:00 CST 2017', 'Sun Feb 26 19:00:00 CST 2017', 'Sun Feb 26 20:00:00 CST 2017', 'Sun Feb 26 21:00:00 CST 2017', 'Sun Feb 26 22:00:00 CST 2017', 'Mon Feb 27 09:00:00 CST 2017', 'Mon Feb 27 10:00:00 CST 2017', 'Mon Feb 27 12:00:01 CST 2017', 'Mon Feb 27 14:00:38 CST 2017', 'Mon Feb 27 15:00:01 CST 2017', 'Mon Feb 27 16:00:00 CST 2017', 'Mon Feb 27 22:00:00 CST 2017', 'Tue Feb 28 07:00:00 CST 2017', 'Tue Feb 28 19:00:00 CST 2017', 'Tue Feb 28 20:00:00 CST 2017', 'Wed Mar  1 08:02:53 CST 2017', 'Wed Mar  1 09:00:49 CST 2017', 'Wed Mar  1 11:00:00 CST 2017', 'Wed Mar  1 14:00:00 CST 2017', 'Wed Mar  1 15:02:56 CST 2017', 'Wed Mar  1 16:00:00 CST 2017', 'Wed Mar  1 17:00:00 CST 2017', 'Wed Mar  1 18:00:00 CST 2017', 'Wed Mar  1 19:00:00 CST 2017', 'Wed Mar  1 20:00:00 CST 2017', 'Wed Mar  1 21:00:00 CST 2017', 'Thu Mar  2 18:00:01 CST 2017', 'Thu Mar  2 22:00:00 MST 2017', 'Fri Mar  3 18:00:00 MST 2017', 'Sat Mar  4 09:00:00 MST 2017', 'Sun Mar  5 01:00:00 MST 2017', 'Sun Mar  5 08:00:01 MST 2017', 'Sun Mar  5 10:00:00 MST 2017', 'Sun Mar  5 13:00:00 MST 2017', 'Sun Mar  5 14:00:00 MST 2017', 'Sun Mar  5 20:00:01 CST 2017', 'Sun Mar  5 21:00:00 CST 2017', 'Sun Mar  5 22:00:00 CST 2017', 'Mon Mar  6 09:02:38 CST 2017', 'Mon Mar  6 10:00:00 CST 2017', 'Mon Mar  6 11:00:00 CST 2017', 'Mon Mar  6 14:00:00 CST 2017', 'Mon Mar  6 16:00:00 CST 2017', 'Mon Mar  6 17:00:00 CST 2017', 'Mon Mar  6 18:00:00 CST 2017', 'Mon Mar  6 19:00:00 CST 2017', 'Mon Mar  6 20:00:00 CST 2017', 'Mon Mar  6 21:00:00 CST 2017', 'Mon Mar  6 22:00:00 CST 2017', 'Mon Mar  6 23:00:00 CST 2017', 'Tue Mar  7 00:00:00 CST 2017', 'Tue Mar  7 07:00:00 CST 2017', 'Tue Mar  7 08:00:00 CST 2017', 'Tue Mar  7 09:00:00 CST 2017', 'Tue Mar  7 10:00:00 CST 2017', 'Tue Mar  7 11:00:00 CST 2017', 'Tue Mar  7 12:00:00 CST 2017', 'Tue Mar  7 13:00:01 CST 2017', 'Tue Mar  7 14:00:00 CST 2017', 'Tue Mar  7 15:00:00 CST 2017', 'Tue Mar  7 16:00:00 CST 2017', 'Tue Mar  7 17:00:00 CST 2017', 'Tue Mar  7 18:00:00 CST 2017', 'Tue Mar  7 19:00:00 CST 2017', 'Tue Mar  7 20:00:00 CST 2017', 'Tue Mar  7 21:00:00 CST 2017', 'Tue Mar  7 22:00:00 CST 2017', 'Tue Mar  7 23:00:00 CST 2017', 'Wed Mar  8 00:00:00 CST 2017', 'Wed Mar  8 07:00:00 CST 2017', 'Wed Mar  8 08:00:00 CST 2017', 'Wed Mar  8 09:00:00 CST 2017', 'Wed Mar  8 14:00:00 CST 2017', 'Wed Mar  8 15:05:51 CST 2017', 'Wed Mar  8 18:00:00 CST 2017', 'Wed Mar  8 19:00:00 CST 2017', 'Wed Mar  8 20:00:00 CST 2017', 'Wed Mar  8 22:00:00 CST 2017', 'Wed Mar  8 23:00:00 CST 2017', 'Fri Mar 10 00:00:00 CST 2017', 'Fri Mar 10 01:00:00 CST 2017', 'Fri Mar 10 02:00:00 CST 2017', 'Fri Mar 10 03:00:00 CST 2017', 'Fri Mar 10 04:00:00 CST 2017', 'Fri Mar 10 05:00:00 CST 2017', 'Fri Mar 10 06:00:00 CST 2017', 'Fri Mar 10 07:00:00 CST 2017', 'Fri Mar 10 08:00:00 CST 2017', 'Fri Mar 10 10:00:00 CST 2017', 'Fri Mar 10 12:00:00 CST 2017', 'Fri Mar 10 13:00:19 CST 2017', 'Fri Mar 10 14:00:00 CST 2017', 'Fri Mar 10 15:00:00 CST 2017', 'Fri Mar 10 22:00:00 CST 2017', 'Sun Mar 12 17:00:00 CDT 2017', 'Mon Mar 13 11:00:00 CDT 2017', 'Mon Mar 13 12:00:00 CDT 2017', 'Mon Mar 13 14:00:00 CDT 2017', 'Tue Mar 14 10:00:00 CDT 2017', 'Tue Mar 14 11:00:00 CDT 2017', 'Tue Mar 14 22:00:00 CDT 2017', 'Wed Mar 15 11:00:01 CDT 2017', 'Wed Mar 15 12:00:00 CDT 2017', 'Wed Mar 15 18:02:47 CDT 2017', 'Thu Mar 16 11:00:01 CDT 2017', 'Thu Mar 16 12:02:10 CDT 2017', 'Thu Mar 16 18:00:00 CDT 2017', 'Sat Mar 18 13:00:00 CDT 2017', 'Sat Mar 18 14:00:00 CDT 2017', 'Sat Mar 18 16:00:00 CDT 2017', 'Sat Mar 18 17:00:00 CDT 2017', 'Sat Mar 18 18:00:00 CDT 2017', 'Sat Mar 18 19:00:00 CDT 2017', 'Sat Mar 18 20:00:00 CDT 2017', 'Sat Mar 18 21:00:00 CDT 2017', 'Sat Mar 18 22:00:00 CDT 2017', 'Sat Mar 18 23:00:00 CDT 2017', 'Sun Mar 19 00:00:01 CDT 2017', 'Sun Mar 19 07:00:01 CDT 2017', 'Sun Mar 19 08:00:00 CDT 2017', 'Sun Mar 19 09:00:00 CDT 2017', 'Sun Mar 19 10:00:00 CDT 2017', 'Sun Mar 19 11:00:00 CDT 2017', 'Sun Mar 19 12:00:00 CDT 2017', 'Sun Mar 19 13:00:00 CDT 2017', 'Sun Mar 19 14:00:00 CDT 2017', 'Sun Mar 19 15:00:00 CDT 2017', 'Sun Mar 19 16:00:00 CDT 2017', 'Sun Mar 19 17:00:00 CDT 2017', 'Sun Mar 19 18:00:01 CDT 2017', 'Sun Mar 19 19:00:00 CDT 2017', 'Sun Mar 19 20:00:00 CDT 2017', 'Sun Mar 19 21:00:00 CDT 2017', 'Sun Mar 19 22:00:00 CDT 2017', 'Sun Mar 19 23:00:00 CDT 2017', 'Mon Mar 20 00:00:00 CDT 2017', 'Mon Mar 20 09:01:10 CDT 2017', 'Mon Mar 20 12:04:17 CDT 2017', 'Mon Mar 20 15:00:23 CDT 2017', 'Mon Mar 20 16:00:00 CDT 2017', 'Mon Mar 20 18:00:01 CDT 2017', 'Mon Mar 20 19:00:01 CDT 2017', 'Mon Mar 20 20:00:00 CDT 2017', 'Mon Mar 20 21:00:00 CDT 2017', 'Mon Mar 20 22:00:00 CDT 2017', 'Mon Mar 20 23:00:00 CDT 2017', 'Tue Mar 21 00:00:00 CDT 2017', 'Tue Mar 21 07:00:01 CDT 2017', 'Tue Mar 21 08:00:00 CDT 2017', 'Tue Mar 21 09:00:00 CDT 2017', 'Tue Mar 21 10:00:00 CDT 2017', 'Tue Mar 21 11:00:00 CDT 2017', 'Tue Mar 21 12:00:00 CDT 2017', 'Tue Mar 21 13:00:00 CDT 2017', 'Tue Mar 21 14:00:00 CDT 2017', 'Tue Mar 21 15:00:00 CDT 2017', 'Tue Mar 21 16:00:00 CDT 2017', 'Tue Mar 21 17:00:00 CDT 2017', 'Tue Mar 21 18:00:00 CDT 2017', 'Tue Mar 21 19:00:00 CDT 2017', 'Tue Mar 21 20:00:00 CDT 2017', 'Tue Mar 21 21:00:00 CDT 2017', 'Tue Mar 21 22:00:00 CDT 2017', 'Tue Mar 21 23:00:00 CDT 2017', 'Wed Mar 22 00:00:00 CDT 2017', 'Wed Mar 22 01:00:00 CDT 2017', 'Wed Mar 22 02:00:00 CDT 2017', 'Wed Mar 22 03:00:00 CDT 2017', 'Wed Mar 22 04:00:01 CDT 2017', 'Wed Mar 22 05:00:00 CDT 2017', 'Wed Mar 22 06:00:00 CDT 2017', 'Wed Mar 22 07:00:00 CDT 2017', 'Wed Mar 22 08:00:01 CDT 2017', 'Wed Mar 22 09:02:07 CDT 2017', 'Wed Mar 22 10:00:00 CDT 2017', 'Wed Mar 22 12:00:10 CDT 2017', 'Wed Mar 22 14:00:39 CDT 2017', 'Wed Mar 22 15:02:49 CDT 2017', 'Wed Mar 22 16:00:00 CDT 2017', 'Wed Mar 22 17:00:00 CDT 2017', 'Wed Mar 22 18:00:00 CDT 2017', 'Wed Mar 22 19:00:00 CDT 2017', 'Wed Mar 22 20:00:01 CDT 2017', 'Wed Mar 22 21:05:12 CDT 2017', 'Wed Mar 22 22:00:00 CDT 2017', 'Thu Mar 23 18:00:00 CDT 2017', 'Thu Mar 23 22:00:00 CDT 2017', 'Thu Mar 23 23:00:00 CDT 2017', 'Fri Mar 24 00:00:00 CDT 2017', 'Fri Mar 24 07:00:01 CDT 2017', 'Fri Mar 24 08:00:00 CDT 2017', 'Fri Mar 24 09:00:00 CDT 2017', 'Fri Mar 24 10:00:00 CDT 2017', 'Fri Mar 24 11:05:27 CDT 2017', 'Fri Mar 24 14:00:00 CDT 2017', 'Fri Mar 24 15:00:01 CDT 2017', 'Fri Mar 24 16:00:00 CDT 2017', 'Fri Mar 24 17:00:00 CDT 2017', 'Fri Mar 24 18:00:00 CDT 2017', 'Fri Mar 24 19:00:00 CDT 2017', 'Fri Mar 24 20:00:00 CDT 2017', 'Fri Mar 24 21:00:00 CDT 2017', 'Fri Mar 24 22:00:01 CDT 2017', 'Fri Mar 24 23:00:00 CDT 2017', 'Sat Mar 25 00:00:00 CDT 2017', 'Sat Mar 25 01:00:00 CDT 2017', 'Sat Mar 25 11:00:00 CDT 2017', 'Sat Mar 25 12:00:00 CDT 2017', 'Sat Mar 25 13:00:00 CDT 2017', 'Sat Mar 25 14:00:00 CDT 2017', 'Sat Mar 25 15:00:00 CDT 2017', 'Sat Mar 25 16:00:00 CDT 2017', 'Sat Mar 25 17:00:00 CDT 2017', 'Sat Mar 25 18:00:00 CDT 2017', 'Sat Mar 25 19:00:01 CDT 2017', 'Sat Mar 25 20:00:00 CDT 2017', 'Sat Mar 25 21:00:00 CDT 2017', 'Sat Mar 25 22:00:00 CDT 2017', 'Sat Mar 25 23:00:00 CDT 2017', 'Sun Mar 26 00:00:00 CDT 2017', 'Sun Mar 26 01:00:00 CDT 2017', 'Sun Mar 26 02:00:00 CDT 2017', 'Sun Mar 26 03:00:00 CDT 2017', 'Sun Mar 26 04:00:00 CDT 2017', 'Sun Mar 26 05:00:00 CDT 2017', 'Sun Mar 26 06:00:00 CDT 2017', 'Sun Mar 26 07:00:00 CDT 2017', 'Sun Mar 26 08:00:00 CDT 2017', 'Sun Mar 26 09:00:00 CDT 2017', 'Sun Mar 26 10:00:00 CDT 2017', 'Sun Mar 26 11:00:01 CDT 2017', 'Sun Mar 26 12:00:00 CDT 2017', 'Sun Mar 26 13:00:00 CDT 2017', 'Sun Mar 26 14:00:01 CDT 2017', 'Sun Mar 26 15:00:00 CDT 2017', 'Sun Mar 26 16:00:00 CDT 2017', 'Sun Mar 26 18:00:00 CDT 2017', 'Sun Mar 26 19:00:00 CDT 2017', 'Sun Mar 26 20:05:58 CDT 2017', 'Sun Mar 26 21:00:00 CDT 2017', 'Sun Mar 26 22:00:00 CDT 2017', 'Sun Mar 26 23:00:00 CDT 2017', 'Mon Mar 27 00:00:00 CDT 2017', 'Mon Mar 27 01:00:00 CDT 2017', 'Mon Mar 27 02:00:00 CDT 2017', 'Mon Mar 27 03:00:01 CDT 2017', 'Mon Mar 27 04:00:00 CDT 2017', 'Mon Mar 27 05:00:00 CDT 2017', 'Mon Mar 27 06:00:01 CDT 2017', 'Mon Mar 27 07:00:00 CDT 2017', 'Mon Mar 27 08:00:00 CDT 2017', 'Mon Mar 27 09:02:08 CDT 2017', 'Mon Mar 27 10:00:00 CDT 2017', 'Mon Mar 27 12:00:00 CDT 2017', 'Mon Mar 27 14:01:05 CDT 2017', 'Mon Mar 27 16:00:01 CDT 2017', 'Mon Mar 27 17:00:00 CDT 2017', 'Mon Mar 27 18:00:00 CDT 2017', 'Mon Mar 27 19:00:01 CDT 2017', 'Mon Mar 27 20:00:00 CDT 2017', 'Mon Mar 27 21:00:00 CDT 2017', 'Mon Mar 27 22:00:00 CDT 2017', 'Tue Mar 28 08:00:00 CDT 2017', 'Tue Mar 28 20:00:00 CDT 2017', 'Tue Mar 28 21:00:00 CDT 2017', 'Tue Mar 28 22:00:00 CDT 2017', 'Tue Mar 28 23:00:01 CDT 2017', 'Wed Mar 29 00:00:00 CDT 2017', 'Wed Mar 29 07:00:00 CDT 2017', 'Wed Mar 29 10:00:00 CDT 2017', 'Wed Mar 29 11:00:00 CDT 2017', 'Wed Mar 29 12:00:27 CDT 2017', 'Wed Mar 29 14:00:01 CDT 2017', 'Wed Mar 29 16:00:00 CDT 2017', 'Wed Mar 29 18:02:35 CDT 2017', 'Wed Mar 29 22:00:01 CDT 2017', 'Wed Mar 29 23:00:00 CDT 2017', 'Thu Mar 30 00:00:00 CDT 2017', 'Thu Mar 30 07:00:00 CDT 2017', 'Thu Mar 30 08:00:00 CDT 2017', 'Thu Mar 30 09:00:00 CDT 2017', 'Thu Mar 30 10:00:00 CDT 2017', 'Thu Mar 30 11:00:00 CDT 2017', 'Thu Mar 30 12:00:00 CDT 2017', 'Thu Mar 30 13:00:00 CDT 2017', 'Thu Mar 30 14:00:00 CDT 2017', 'Thu Mar 30 15:00:00 CDT 2017', 'Thu Mar 30 16:00:00 CDT 2017', 'Thu Mar 30 17:00:00 CDT 2017', 'Thu Mar 30 18:00:00 CDT 2017', 'Thu Mar 30 19:00:00 CDT 2017', 'Thu Mar 30 20:00:00 CDT 2017', 'Thu Mar 30 21:00:00 CDT 2017', 'Thu Mar 30 22:00:00 CDT 2017', 'Thu Mar 30 23:00:00 CDT 2017', 'Fri Mar 31 08:00:01 CDT 2017', 'Fri Mar 31 09:00:36 CDT 2017', 'Fri Mar 31 11:00:35 CDT 2017', 'Fri Mar 31 12:00:00 CDT 2017', 'Fri Mar 31 14:00:00 CDT 2017', 'Fri Mar 31 15:00:00 CDT 2017', 'Fri Mar 31 16:00:00 CDT 2017', 'Fri Mar 31 19:00:00 CDT 2017', 'Fri Mar 31 20:00:00 CDT 2017', 'Fri Mar 31 21:00:01 CDT 2017', 'Fri Mar 31 22:00:00 CDT 2017', 'Fri Mar 31 23:00:00 CDT 2017', 'Sat Apr  1 00:00:00 CDT 2017', 'Sat Apr  1 07:00:00 CDT 2017', 'Sat Apr  1 08:00:00 CDT 2017', 'Sat Apr  1 09:00:00 CDT 2017', 'Sat Apr  1 10:00:00 CDT 2017', 'Sat Apr  1 11:00:00 CDT 2017', 'Sat Apr  1 12:00:00 CDT 2017', 'Sat Apr  1 13:00:00 CDT 2017', 'Sat Apr  1 14:00:00 CDT 2017', 'Sat Apr  1 15:00:00 CDT 2017', 'Sat Apr  1 21:00:00 CDT 2017', 'Sun Apr  2 12:00:00 CDT 2017', 'Sun Apr  2 13:00:00 CDT 2017', 'Sun Apr  2 14:00:01 CDT 2017', 'Sun Apr  2 19:00:00 CDT 2017', 'Sun Apr  2 20:00:01 CDT 2017', 'Sun Apr  2 21:00:00 CDT 2017', 'Sun Apr  2 22:00:00 CDT 2017', 'Sun Apr  2 23:00:00 CDT 2017', 'Mon Apr  3 00:00:00 CDT 2017', 'Mon Apr  3 07:00:00 CDT 2017', 'Mon Apr  3 08:00:00 CDT 2017', 'Mon Apr  3 09:05:00 CDT 2017', 'Mon Apr  3 13:00:00 CDT 2017', 'Mon Apr  3 14:00:00 CDT 2017', 'Mon Apr  3 15:00:01 CDT 2017', 'Mon Apr  3 16:00:00 CDT 2017', 'Mon Apr  3 17:00:00 CDT 2017', 'Mon Apr  3 18:00:00 CDT 2017', 'Mon Apr  3 19:00:00 CDT 2017', 'Mon Apr  3 20:00:00 CDT 2017', 'Mon Apr  3 21:00:00 CDT 2017', 'Mon Apr  3 22:00:00 CDT 2017', 'Tue Apr  4 09:00:00 CDT 2017', 'Tue Apr  4 18:00:01 CDT 2017', 'Tue Apr  4 19:00:00 CDT 2017', 'Tue Apr  4 20:00:00 CDT 2017', 'Tue Apr  4 21:00:00 CDT 2017', 'Tue Apr  4 22:00:00 CDT 2017', 'Tue Apr  4 23:00:00 CDT 2017', 'Wed Apr  5 07:00:48 CDT 2017', 'Wed Apr  5 08:00:00 CDT 2017', 'Wed Apr  5 10:00:00 CDT 2017', 'Wed Apr  5 11:00:00 CDT 2017', 'Wed Apr  5 12:01:23 CDT 2017', 'Wed Apr  5 14:00:00 CDT 2017', 'Wed Apr  5 15:00:00 CDT 2017', 'Wed Apr  5 16:00:00 CDT 2017', 'Wed Apr  5 17:00:00 CDT 2017', 'Wed Apr  5 18:00:00 CDT 2017', 'Wed Apr  5 19:00:00 CDT 2017', 'Wed Apr  5 20:00:00 CDT 2017', 'Wed Apr  5 21:00:00 CDT 2017', 'Thu Apr  6 18:00:00 CDT 2017', 'Thu Apr  6 19:00:00 CDT 2017', 'Thu Apr  6 20:00:00 CDT 2017', 'Thu Apr  6 21:00:00 CDT 2017', 'Thu Apr  6 22:00:00 CDT 2017', 'Thu Apr  6 23:00:00 CDT 2017', 'Fri Apr  7 00:00:00 CDT 2017', 'Fri Apr  7 01:00:00 CDT 2017', 'Fri Apr  7 02:00:01 CDT 2017', 'Fri Apr  7 03:00:00 CDT 2017', 'Fri Apr  7 04:00:00 CDT 2017', 'Fri Apr  7 05:00:00 CDT 2017', 'Fri Apr  7 06:00:00 CDT 2017', 'Fri Apr  7 07:00:00 CDT 2017', 'Fri Apr  7 08:00:00 CDT 2017', 'Fri Apr  7 09:00:00 CDT 2017', 'Fri Apr  7 10:00:00 CDT 2017', 'Fri Apr  7 11:01:07 CDT 2017', 'Fri Apr  7 12:03:04 CDT 2017', 'Fri Apr  7 23:00:00 CDT 2017', 'Sat Apr  8 00:00:00 CDT 2017', 'Sat Apr  8 07:00:00 CDT 2017', 'Sat Apr  8 08:00:00 CDT 2017', 'Sat Apr  8 09:00:00 CDT 2017', 'Sat Apr  8 10:00:00 CDT 2017', 'Sat Apr  8 11:00:00 CDT 2017', 'Sat Apr  8 12:00:00 CDT 2017', 'Sat Apr  8 13:00:00 CDT 2017', 'Sat Apr  8 14:00:00 CDT 2017', 'Sat Apr  8 15:00:00 CDT 2017', 'Sat Apr  8 16:00:00 CDT 2017', 'Sat Apr  8 17:00:00 CDT 2017', 'Sat Apr  8 18:00:00 CDT 2017', 'Sat Apr  8 19:00:00 CDT 2017', 'Sat Apr  8 20:00:00 CDT 2017', 'Sat Apr  8 21:00:00 CDT 2017', 'Sat Apr  8 22:00:00 CDT 2017', 'Sat Apr  8 23:00:00 CDT 2017', 'Sun Apr  9 00:00:00 CDT 2017', 'Sun Apr  9 07:00:00 CDT 2017', 'Sun Apr  9 08:00:00 CDT 2017', 'Sun Apr  9 09:00:00 CDT 2017', 'Sun Apr  9 10:00:01 CDT 2017', 'Sun Apr  9 11:00:00 CDT 2017', 'Sun Apr  9 12:00:00 CDT 2017', 'Sun Apr  9 13:00:00 CDT 2017', 'Sun Apr  9 14:00:00 CDT 2017', 'Sun Apr  9 15:00:00 CDT 2017', 'Sun Apr  9 16:00:00 CDT 2017', 'Sun Apr  9 17:00:00 CDT 2017', 'Sun Apr  9 18:00:00 CDT 2017', 'Sun Apr  9 19:00:01 CDT 2017', 'Sun Apr  9 20:00:00 CDT 2017', 'Sun Apr  9 21:00:00 CDT 2017', 'Sun Apr  9 22:00:00 CDT 2017', 'Sun Apr  9 23:00:00 CDT 2017']\n"
     ]
    }
   ],
   "source": [
    "# of my home's wireless speed. Requires that speedtest-cli is installed for\n",
    "# testing wireless speed through terminal\n",
    "\n",
    "#import the necessary libraries\n",
    "import numpy as np\n",
    "import matplotlib\n",
    "from matplotlib import pyplot as plt\n",
    "from datetime import datetime\n",
    "from matplotlib.dates import DateFormatter, HourLocator\n",
    "import matplotlib.dates\n",
    "import time\n",
    "import os\n",
    "import matplotlib.dates\n",
    "\n",
    "#create a list from a text file (column format) where the wireless tests are logged\n",
    "# format is time string, then under it is Download speed, then under it is Upload Speed\n",
    "base_path = os.path.abspath('/users/claytonblythe/Desktop/Mega/wifi_tracking')\n",
    "filename_basic='/clean_wireless.log'\n",
    "filename = open(base_path+filename_basic,'r')\n",
    "lines = filename.readlines()\n",
    "print(len(lines))\n",
    "\n",
    "#parsing the correct strings for time, download, upload speeds\n",
    "download_speeds = [i[10:15] for i in lines if 'Download' in i]\n",
    "download_speeds_floats= [float(i) for i in download_speeds]\n",
    "upload_speeds = [i[8:12] for i in lines if 'Upload' in i]\n",
    "date_times = [i[:-1] for i in lines if 'CST' in i or 'CDT' in i or 'MST' in i]\n",
    "\n",
    "print(len(date_times))\n",
    "print(len(download_speeds))\n",
    "print(len(upload_speeds))\n",
    "date_times_parsed=[i[11:16] for i in date_times]\n",
    "#print(date_times_parsed)\n",
    "#print(date_times)\n",
    "date_times = [i.replace('MST', 'CST') for i in date_times]"
   ]
  },
  {
   "cell_type": "code",
   "execution_count": 22,
   "metadata": {
    "collapsed": false
   },
   "outputs": [],
   "source": [
    "converted_times = [datetime.strptime(i, \"%a %b %d %H:%M:%S %Z %Y\") for i in date_times]  \n",
    "dates = matplotlib.dates.date2num(converted_times)\n"
   ]
  },
  {
   "cell_type": "code",
   "execution_count": 23,
   "metadata": {
    "collapsed": true
   },
   "outputs": [],
   "source": [
    "\n",
    "#moving average function from numpy\n",
    "def movingaverage(interval, window_size):\n",
    "    window = np.ones(int(window_size))/float(window_size)\n",
    "    return np.convolve(interval, window, 'same')\n",
    "y_av = movingaverage(download_speeds_floats, 15)\n"
   ]
  },
  {
   "cell_type": "code",
   "execution_count": 29,
   "metadata": {
    "collapsed": false
   },
   "outputs": [],
   "source": [
    "\n",
    "#create plots for the visualization\n",
    "fig, ax = plt.subplots(figsize=(17,10))\n",
    "#scatterpoints\n",
    "ax.plot_date(dates,download_speeds)\n",
    "#average trend\n",
    "ax.plot_date(dates[6:-6],y_av[6:-6], ls='solid', color='r', label=\"running average\")\n",
    "\n",
    "#This finds the correct locations for certain hours to place the ticks, and also\n",
    "#does the formatting for the labels\n",
    "ax.xaxis.set_major_locator(HourLocator(range(0,1,1)))\n",
    "ax.xaxis.set_major_formatter(DateFormatter('%b %dth\\n'))\n",
    "plt.ylabel(\"Wireless Speed (Mb/s)\", fontsize=25)\n",
    "plt.xlabel(\"Date/Time\", fontsize=25)\n",
    "plt.title(\"Wireless Speed Over Time\", fontsize=30)\n",
    "plt.xticks(rotation=70)\n",
    "plt.legend()\n",
    "plt.grid(which=\"major\",axis=\"x\")\n",
    "date_and_time_string = time.strftime(\"%b_%d_%H:%M_\")\n",
    "fig.savefig(base_path+'/wireless_performance_updated_'+date_and_time_string+'.pdf')"
   ]
  },
  {
   "cell_type": "code",
   "execution_count": null,
   "metadata": {
    "collapsed": true
   },
   "outputs": [],
   "source": []
  }
 ],
 "metadata": {
  "kernelspec": {
   "display_name": "Python 3",
   "language": "python",
   "name": "python3"
  },
  "language_info": {
   "codemirror_mode": {
    "name": "ipython",
    "version": 3
   },
   "file_extension": ".py",
   "mimetype": "text/x-python",
   "name": "python",
   "nbconvert_exporter": "python",
   "pygments_lexer": "ipython3",
   "version": "3.6.0"
  }
 },
 "nbformat": 4,
 "nbformat_minor": 2
}
